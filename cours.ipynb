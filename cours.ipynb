{
 "cells": [
  {
   "cell_type": "markdown",
   "metadata": {},
   "source": [
    "<div id=\"titre\">\n",
    "<h1 style=\"color:white;\n",
    "  font-family:Comic Sans MS;\n",
    "  font-size:3em;\n",
    "  background-color:#F0573B;\n",
    "  text-align:center;\n",
    "  padding:10px\">Variable aléatoire <br> Loi de probabilité <br>Espérance </h1>\n",
    "<div style=\"font-family:Comic Sans MS; background-color:black;box-shadow: 8px 8px 0px #aaa; text-align:center; width: 50%; color:white\">Cours</div>\n",
    "</div>"
   ]
  },
  {
   "cell_type": "markdown",
   "metadata": {},
   "source": [
    "<b><u>Objectifs</u></b>\n",
    "<blockquote style=\"border-left: 10px solid black;background-color:#F0573B\">\n",
    "    Une urne contient :\n",
    "    <ul>\n",
    "        <li>2 boules rouges</li>\n",
    "        <li>3 boules bleues</li>\n",
    "    </ul>\n",
    "    Elles sont indiscernables au toucher.\n",
    "    <img src='urne.png'>\n",
    "    <b>L'expérience aléatoire</b> consiste à choisir succesivement et avec remise 2 boules de l'urne et relever le nombre $X$ de boules rouges obtenues.\n",
    "    <br><b>Question : </b> lors de cette expérience aléatoire, quel sera le nombre moyen de boule rouges obtenues ?\n",
    "</blockquote>"
   ]
  },
  {
   "cell_type": "markdown",
   "metadata": {},
   "source": [
    "<span style='color:white;font-weight:bold;background-color:black;width:12px;padding: 2px;font-size:20px'>1.</span> Préambule"
   ]
  },
  {
   "cell_type": "code",
   "execution_count": 1,
   "metadata": {},
   "outputs": [],
   "source": [
    "from random import choice\n",
    "import pylab as pl"
   ]
  },
  {
   "cell_type": "code",
   "execution_count": 2,
   "metadata": {},
   "outputs": [],
   "source": [
    "urne = ['B','B','N','N','N']"
   ]
  },
  {
   "cell_type": "code",
   "execution_count": 3,
   "metadata": {},
   "outputs": [
    {
     "data": {
      "text/plain": [
       "'N'"
      ]
     },
     "execution_count": 3,
     "metadata": {},
     "output_type": "execute_result"
    }
   ],
   "source": [
    "choice(urne)"
   ]
  },
  {
   "cell_type": "markdown",
   "metadata": {},
   "source": [
    "<span style='background-color:orange;padding:10px'><b>Avec python :</b> <code>choice(urne)</code> renvoie un élément de <code>urne</code> choisi au hasard.</span>"
   ]
  },
  {
   "cell_type": "markdown",
   "metadata": {},
   "source": [
    "<span style='color:white;font-weight:bold;background-color:black;width:12px;padding: 2px;font-size:20px'>2.</span> Simulation de l'expérience aléatoire"
   ]
  },
  {
   "cell_type": "markdown",
   "metadata": {},
   "source": [
    "La Fonction <code>nb_blanches</code> <i>(sans paramètre)</i> renvoie le nombre de boules rouges obtenues lors de 2 tirages simulés."
   ]
  },
  {
   "cell_type": "code",
   "execution_count": 4,
   "metadata": {},
   "outputs": [],
   "source": [
    "def nb_rouges():\n",
    "    X = 0\n",
    "    for tirage in range(2):\n",
    "        if choice(urne) == 'B':\n",
    "            X = X + 1\n",
    "    return X"
   ]
  },
  {
   "cell_type": "markdown",
   "metadata": {},
   "source": [
    "<div style='background-color:lightgreen;padding:10px'><b>Définitions :</b>\n",
    "    <ul>\n",
    "        <li>Les valeurs possibles prises par $X$ sont $0$, $1$ et $2$.<br> On dit que $X$ est une <b>variable aléatoire</b></li>\n",
    "        <li>On dit que <code>nb_rouges()</code> est une <b>réalisation</b> de $X$.</li>\n",
    "    </ul>\n",
    "</div>"
   ]
  },
  {
   "cell_type": "markdown",
   "metadata": {},
   "source": [
    "<span style='color:white;font-weight:bold;background-color:black;width:12px;padding: 2px;font-size:20px'>3.</span> Echantillon de $X$ de taille $n$"
   ]
  },
  {
   "cell_type": "markdown",
   "metadata": {},
   "source": [
    "La Fonction <code>echan</code> de paramètre <code>n</code> <i>(un entier naturel non nul)</i> renvoie la liste de $n$ réalisations de $X$."
   ]
  },
  {
   "cell_type": "code",
   "execution_count": 5,
   "metadata": {},
   "outputs": [],
   "source": [
    "def echan(n):\n",
    "    return [nb_rouges() for k in range(n)]"
   ]
  },
  {
   "cell_type": "markdown",
   "metadata": {},
   "source": [
    "<div style='background-color:lightgreen;padding:10px'><b>Définition :</b>\n",
    "    La liste renvoyée est appelée <b>échantillon</b> de <b>taille</b> $n$ de $X$.\n",
    "</div>"
   ]
  },
  {
   "cell_type": "code",
   "execution_count": 6,
   "metadata": {},
   "outputs": [
    {
     "name": "stdout",
     "output_type": "stream",
     "text": [
      "[1, 2, 1, 2, 2, 1, 2, 1, 1, 0, 0, 1, 0, 1, 1, 1, 0, 0, 1, 1, 1, 1, 0, 2, 2, 2, 0, 0, 1, 1, 0, 0, 1, 1, 0, 1, 2, 0, 1, 0, 1, 1, 2, 1, 0, 0, 1, 1, 0, 1, 1, 1, 1, 0, 1, 1, 1, 1, 1, 1, 0, 0, 1, 1, 0, 2, 2, 0, 0, 1, 0, 1, 0, 1, 1, 0, 0, 0, 1, 0, 2, 1, 0, 0, 2, 0, 1, 0, 0, 2, 1, 1, 1, 1, 1, 1, 1, 2, 1, 0]\n"
     ]
    }
   ],
   "source": [
    "print(echan(100))"
   ]
  },
  {
   "cell_type": "markdown",
   "metadata": {},
   "source": [
    "<span style='color:white;font-weight:bold;background-color:black;width:12px;padding: 2px;font-size:20px'>4.</span> Fréquences des valeurs prises par $X$ dans un échantillon de taille $n$"
   ]
  },
  {
   "cell_type": "markdown",
   "metadata": {},
   "source": [
    "- <code>valeurs</code> est l'ensemble des valeurs prises par $X$"
   ]
  },
  {
   "cell_type": "code",
   "execution_count": 7,
   "metadata": {},
   "outputs": [],
   "source": [
    "valeurs = range(3)"
   ]
  },
  {
   "cell_type": "markdown",
   "metadata": {},
   "source": [
    "- La Fonction <code>frequences</code> de paramètre <code>n</code> <i>(un entier naturel non nul)</i> renvoie la liste des fréquences de chaque valeur prise par $X$ dans un échantillon de taille $n$."
   ]
  },
  {
   "cell_type": "code",
   "execution_count": 8,
   "metadata": {},
   "outputs": [],
   "source": [
    "def frequences(n):\n",
    "    E = echan(n)\n",
    "    return [E.count(x)/n for x in valeurs]"
   ]
  },
  {
   "cell_type": "markdown",
   "metadata": {},
   "source": [
    "- Fréquences obtenues dans un échantillon de taille $1000$"
   ]
  },
  {
   "cell_type": "code",
   "execution_count": 9,
   "metadata": {},
   "outputs": [
    {
     "data": {
      "text/plain": [
       "[0.343, 0.49, 0.167]"
      ]
     },
     "execution_count": 9,
     "metadata": {},
     "output_type": "execute_result"
    }
   ],
   "source": [
    "F = frequences(1000)\n",
    "F"
   ]
  },
  {
   "cell_type": "markdown",
   "metadata": {},
   "source": [
    "- Voici l'arbre de probabilités \n",
    "<img src='arbre.png'>\n",
    "- La loi de probabilité de $X$ est : \n",
    "<table style=\"border-width:2px;border-style:solid;border-color:#F0573B;\" width=\"400\">\n",
    "   <tr style=\"border:2px solid #F0573B;\">\n",
    "       <td style=\"border:2px solid #F0573B;text-align:center;\" width=\"100\">Valeur</td>\n",
    "       <td style=\"border:2px solid #F0573B;text-align:center;\">0</td>\n",
    "       <td style=\"border:2px solid #F0573B;text-align:center;\">1</td>\n",
    "       <td style=\"border:2px solid #F0573B;text-align:center;\">2</td>\n",
    "   </tr>\n",
    "    <tr style=\"border:2px solid #F0573B;\">\n",
    "       <td style=\"border:2px solid #F0573B;text-align:center;\" width=\"100\">Probabilité</td>\n",
    "       <td style=\"border:2px solid #F0573B;text-align:center;\">$\\dfrac{9}{25}$</td>\n",
    "       <td style=\"border:2px solid #F0573B;text-align:center;\">$\\dfrac{12}{25}$</td>\n",
    "        <td style=\"border:2px solid #F0573B;text-align:center;\">$\\dfrac{4}{25}$</td>\n",
    "   </tr>\n",
    "</table>\n",
    "<br>\n",
    "<div style='background-color:lightgreen;padding:10px'><b>Définition :</b>\n",
    "    <br>Ce tableau correspond à <b>la loi de probabilité de</b> $X$.\n",
    "</div>\n",
    "- Comparons les fréquences obtenues avec la loi de probabilité de $X$"
   ]
  },
  {
   "cell_type": "code",
   "execution_count": 10,
   "metadata": {},
   "outputs": [
    {
     "data": {
      "text/plain": [
       "<matplotlib.legend.Legend at 0x2dd4dac3488>"
      ]
     },
     "execution_count": 10,
     "metadata": {},
     "output_type": "execute_result"
    },
    {
     "data": {
      "image/png": "[encoded data removed]",
      "text/plain": [
       "<Figure size 432x288 with 1 Axes>"
      ]
     },
     "metadata": {
      "needs_background": "light"
     },
     "output_type": "display_data"
    }
   ],
   "source": [
    "pl.bar(valeurs,F,label = 'Fréquences',color = 'yellow')\n",
    "pl.bar(valeurs,[9/25,12/25,4/25],color = 'black',\n",
    "       alpha = 0.5,width = 0.3,\n",
    "       label = 'Loi de probabilité de X')\n",
    "pl.xticks(ticks = [0,1,2],labels = ['(X=0)','(X=1)','(X=2)'])\n",
    "pl.legend()"
   ]
  },
  {
   "cell_type": "markdown",
   "metadata": {},
   "source": [
    "<span style='color:white;font-weight:bold;background-color:black;width:12px;padding: 2px;font-size:20px'>5.</span> En moyenne combien de boules rouges sont obtenues sur 1000 répétitions de l'expérience ?"
   ]
  },
  {
   "cell_type": "markdown",
   "metadata": {},
   "source": [
    "- Concernant la simulation sur l'échantillon de taille $1000$, les fréquences obtenues pour $0$, $1$ et $2$ sont :"
   ]
  },
  {
   "cell_type": "code",
   "execution_count": 11,
   "metadata": {},
   "outputs": [
    {
     "data": {
      "text/plain": [
       "[0.343, 0.49, 0.167]"
      ]
     },
     "execution_count": 11,
     "metadata": {},
     "output_type": "execute_result"
    }
   ],
   "source": [
    "F"
   ]
  },
  {
   "cell_type": "markdown",
   "metadata": {},
   "source": [
    "- La moyenne $\\overline{x}$ des valeurs prises par $X$ dans cet échantillon est :"
   ]
  },
  {
   "cell_type": "code",
   "execution_count": 12,
   "metadata": {},
   "outputs": [
    {
     "data": {
      "text/plain": [
       "0.8240000000000001"
      ]
     },
     "execution_count": 12,
     "metadata": {},
     "output_type": "execute_result"
    }
   ],
   "source": [
    "0*F[0]+1*F[1]+2*F[2]"
   ]
  },
  {
   "cell_type": "markdown",
   "metadata": {},
   "source": [
    "- La Fonction <code>moyenne</code> de paramètre <code>n</code> <i>(un entier naturel non nul)</i> renvoie la valeur moyenne des valeurs prises par $X$ dans un échantillon de taille $n$."
   ]
  },
  {
   "cell_type": "code",
   "execution_count": 13,
   "metadata": {},
   "outputs": [],
   "source": [
    "def moyenne(n):\n",
    "    F = frequences(n)\n",
    "    return 0*F[0] + 1*F[1] + 2*F[2]"
   ]
  },
  {
   "cell_type": "code",
   "execution_count": 14,
   "metadata": {},
   "outputs": [
    {
     "data": {
      "text/plain": [
       "0.817"
      ]
     },
     "execution_count": 14,
     "metadata": {},
     "output_type": "execute_result"
    }
   ],
   "source": [
    "moyenne(1000)"
   ]
  },
  {
   "cell_type": "markdown",
   "metadata": {},
   "source": [
    "- Le nombre attendu est la moyenne des valeurs théoriques : \n",
    "    <table style=\"border-width:2px;border-style:solid;border-color:#F0573B;\" width=\"400\">\n",
    "   <tr style=\"border:2px solid #F0573B;\">\n",
    "       <td style=\"border:2px solid #F0573B;text-align:center;\" width=\"100\">Valeur</td>\n",
    "       <td style=\"border:2px solid #F0573B;text-align:center;\">0</td>\n",
    "       <td style=\"border:2px solid #F0573B;text-align:center;\">1</td>\n",
    "       <td style=\"border:2px solid #F0573B;text-align:center;\">2</td>\n",
    "   </tr>\n",
    "    <tr style=\"border:2px solid #F0573B;\">\n",
    "       <td style=\"border:2px solid #F0573B;text-align:center;\" width=\"100\">Probabilité</td>\n",
    "       <td style=\"border:2px solid #F0573B;text-align:center;\">$\\dfrac{9}{25}$</td>\n",
    "       <td style=\"border:2px solid #F0573B;text-align:center;\">$\\dfrac{12}{25}$</td>\n",
    "        <td style=\"border:2px solid #F0573B;text-align:center;\">$\\dfrac{4}{25}$</td>\n",
    "   </tr>\n",
    "</table>"
   ]
  },
  {
   "cell_type": "markdown",
   "metadata": {},
   "source": [
    "<div style='background-color:lightgreen;padding:10px'><b>Définition :</b>\n",
    "    On définit <b>l'espérance</b> de $X$, le nombre noté $\\mathbb{E}[X]$, définit par : $$\\mathbb{E}[X]=0\\times\\mathbb{P}(X=0)+1\\times\\mathbb{P}(X=1)+\\cdots+2\\times\\mathbb{P}(X=2)$$\n",
    "</div>"
   ]
  },
  {
   "cell_type": "code",
   "execution_count": 15,
   "metadata": {},
   "outputs": [
    {
     "data": {
      "text/plain": [
       "0.8"
      ]
     },
     "execution_count": 15,
     "metadata": {},
     "output_type": "execute_result"
    }
   ],
   "source": [
    "Ex = 0*9/25 + 1*12/25 + 2*4/25\n",
    "Ex"
   ]
  },
  {
   "cell_type": "markdown",
   "metadata": {},
   "source": [
    "<blockquote style=\"border-left: 2px solid black;background-color:#F0573B\">\n",
    "    <ul>\n",
    "        <li>La moyenne de $n$ réalisations de $X$, avec $n$ <b>suffisamment grand</b> est voisine de <span style='background-color:white'> $\\mathbb{E}[X]=0,8$</span>.</li>\n",
    "        <li>Plus simplement, le nombre de boules rouges attendu est en moyenne égale à $0,8$.</li>\n",
    "    </ul>\n",
    "</blockquote>"
   ]
  },
  {
   "cell_type": "markdown",
   "metadata": {},
   "source": [
    "<span style='color:white;font-weight:bold;background-color:black;width:12px;padding: 2px;font-size:20px'>6.</span> Répartition des valeurs moyennes du nombre de boules rouges autour de $\\mathbb{E}[X]$"
   ]
  },
  {
   "cell_type": "markdown",
   "metadata": {},
   "source": [
    "On simule ci-dessous :\n",
    "<ul>\n",
    "    <li> $1000$ échantillons de taille $n$ de $X$.</li>\n",
    "    <li> Pour chacun d'eux, on calcule la moyenne $\\overline{x}$.</li>\n",
    "    <li> On représente l'histogramme des valeurs moyennes pour observer leur répatition.</li>\n",
    "</ul> "
   ]
  },
  {
   "cell_type": "code",
   "execution_count": 16,
   "metadata": {},
   "outputs": [
    {
     "data": {
      "application/vnd.jupyter.widget-view+json": {
       "model_id": "830808d4f2124625859cabc03e361048",
       "version_major": 2,
       "version_minor": 0
      },
      "text/plain": [
       "interactive(children=(IntSlider(value=100, description='n', max=2000, min=100, step=200), Checkbox(value=False…"
      ]
     },
     "metadata": {},
     "output_type": "display_data"
    }
   ],
   "source": [
    "from ipywidgets import interact\n",
    "\n",
    "@interact(n=(100,2000,200))\n",
    "def repartition_moyennes(n=100,axe=False):\n",
    "    pl.axis([0.5,1.1,0,180])\n",
    "    E = [moyenne(n) for k in range(1000)]\n",
    "    pl.hist(E,bins=20,edgecolor='black')\n",
    "    if axe:\n",
    "        pl.axvline(x=Ex,color='red')\n",
    "    pl.show()"
   ]
  },
  {
   "cell_type": "code",
   "execution_count": null,
   "metadata": {},
   "outputs": [],
   "source": []
  }
 ],
 "metadata": {
  "kernelspec": {
   "display_name": "Python 3",
   "language": "python",
   "name": "python3"
  },
  "language_info": {
   "codemirror_mode": {
    "name": "ipython",
    "version": 3
   },
   "file_extension": ".py",
   "mimetype": "text/x-python",
   "name": "python",
   "nbconvert_exporter": "python",
   "pygments_lexer": "ipython3",
   "version": "3.7.6"
  }
 },
 "nbformat": 4,
 "nbformat_minor": 4
}
