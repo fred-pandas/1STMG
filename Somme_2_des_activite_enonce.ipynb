{
 "cells": [
  {
   "cell_type": "markdown",
   "metadata": {},
   "source": [
    "<div id=\"titre\">\n",
    "<h1 style=\"color:white;\n",
    "  font-family:Comic Sans MS;\n",
    "  font-size:3em;\n",
    "  background-color:#F0573B;\n",
    "  text-align:center;\n",
    "  padding:10px\">Variable aléatoire <br> Loi de probabilité <br>Espérance </h1>\n",
    "<div style=\"font-family:Comic Sans MS; background-color:black;box-shadow: 8px 8px 0px #aaa; text-align:center; width: 50%; color:white\">TP chapitre 6</div>\n",
    "</div>"
   ]
  },
  {
   "cell_type": "markdown",
   "metadata": {},
   "source": [
    "<b><u>Objectifs</u></b>\n",
    "<blockquote style=\"border-left: 10px solid black;background-color:#F0573B\">\n",
    "    <ul>\n",
    "        <li>Donner un exemple de variable aléatoire $X$</li>\n",
    "        <li>Définir la loi de probabilité de $X$</li>\n",
    "        <li>Définir l'espérance de $X$ et l'estimer par simulation</li>\n",
    "    </ul>\n",
    "</blockquote>"
   ]
  },
  {
   "cell_type": "markdown",
   "metadata": {},
   "source": [
    "<b>L'expérience aléatoire</b> consiste à lancer deux dés équilibrés."
   ]
  },
  {
   "cell_type": "markdown",
   "metadata": {},
   "source": [
    "<span style='color:white;font-weight:bold;background-color:black;width:12px;padding: 2px;font-size:20px'>1.</span> Préambule"
   ]
  },
  {
   "cell_type": "markdown",
   "metadata": {},
   "source": [
    "<span style='color:white;font-weight:bold;background-color:#F0573B;padding: 2px;font-size:20px'>a.</span> Une issue possible est obtenir $1$ avec le premier dé et $3$ avec le second dé, on note alors cette issue $(1\\,,\\,3)$.\n",
    "<br> Combien y-a-t-il d'issues au total ?"
   ]
  },
  {
   "cell_type": "markdown",
   "metadata": {},
   "source": [
    "<span style='color:white;font-weight:bold;background-color:#F0573B;padding: 2px;font-size:20px'>b.</span> Quelle est la loi de probabilité associée à l'univers ?"
   ]
  },
  {
   "cell_type": "markdown",
   "metadata": {},
   "source": [
    "<span style='color:white;font-weight:bold;background-color:black;width:12px;padding: 2px;font-size:20px'>2.</span> Simulation du lancer de deux dés équilibrés"
   ]
  },
  {
   "cell_type": "markdown",
   "metadata": {},
   "source": [
    "<span style='color:white;font-weight:bold;background-color:#F0573B;padding: 2px;font-size:20px'>a.</span> Exécuter l'instruction suivante permettant de charger la fonction <code>randint</code> du module <code>random</code>."
   ]
  },
  {
   "cell_type": "code",
   "execution_count": 1,
   "metadata": {},
   "outputs": [],
   "source": [
    "from random import randint"
   ]
  },
  {
   "cell_type": "markdown",
   "metadata": {},
   "source": [
    "<span style='background-color:orange;padding:10px'><b>Avec python :</b> <code>randint(a,b)</code> renvoie un nombre <b>entier</b> aléatoirement choisi entre <code>a</code> et <code>b</code>. </span>"
   ]
  },
  {
   "cell_type": "markdown",
   "metadata": {},
   "source": [
    "<span style='color:white;font-weight:bold;background-color:#F0573B;padding: 2px;font-size:20px'>b.</span> Compléter la fonction nommée <code>somme</code>, sans paramètre, qui simule et renvoie la somme de deux lancers de dés équilibrés.  "
   ]
  },
  {
   "cell_type": "code",
   "execution_count": 2,
   "metadata": {},
   "outputs": [],
   "source": [
    "def somme():\n",
    "    return randint(1,6) + randint(1,6)"
   ]
  },
  {
   "cell_type": "markdown",
   "metadata": {},
   "source": [
    "<div style='background-color:lightgreen;padding:10px'><b>Définitions :</b>\n",
    "    <ul>\n",
    "        <li><u>On note $X$ la somme obtenue dans lançant deux dés équilibrés</u>.</li>\n",
    "        <li>On dit que $X$ est une <b>variable aléatoire</b>.</li>\n",
    "        <li>Le résultat renvoyé par <code>somme()</code> est une <b>réalisation</b> de $X$.</li>\n",
    "    </ul>\n",
    "</div>"
   ]
  },
  {
   "cell_type": "markdown",
   "metadata": {},
   "source": [
    "<span style='color:white;font-weight:bold;background-color:#F0573B;padding: 2px;font-size:20px'>c.</span> Compléter la fonction nommée <code>echan</code>, de paramètre <code>n</code> <i>(un entier naturel non nul)</i>, qui simule et renvoie la liste de <code>n</code> réalisations de <code>somme</code>.  "
   ]
  },
  {
   "cell_type": "code",
   "execution_count": 3,
   "metadata": {},
   "outputs": [],
   "source": [
    "def echan(n):\n",
    "    return [somme() for k in range(n)]"
   ]
  },
  {
   "cell_type": "markdown",
   "metadata": {},
   "source": [
    "<div style='background-color:lightgreen;padding:10px'><b>Définition :</b>\n",
    "    <br>Une liste de $n$ réalisations de $X$ est <b>un échantillon</b> de $X$ de <b>taille</b> $n$.\n",
    "</div>"
   ]
  },
  {
   "cell_type": "markdown",
   "metadata": {},
   "source": [
    "<span style='color:white;font-weight:bold;background-color:#F0573B;padding: 2px;font-size:20px'>d.</span> Simuler un échantillon de 10 réalisations de $X$."
   ]
  },
  {
   "cell_type": "code",
   "execution_count": 4,
   "metadata": {},
   "outputs": [
    {
     "data": {
      "text/plain": [
       "[5, 10, 9, 9, 7, 4, 4, 10, 9, 8]"
      ]
     },
     "execution_count": 4,
     "metadata": {},
     "output_type": "execute_result"
    }
   ],
   "source": [
    "echan(10)"
   ]
  },
  {
   "cell_type": "markdown",
   "metadata": {},
   "source": [
    "<span style='color:white;font-weight:bold;background-color:#F0573B;padding: 2px;font-size:20px'>e.</span> Quel est l'ensemble des valeurs prises par $X$ ? \n",
    "<br>Créer cet ensemble dans la variable ci-dessous nommée <code>Valeurs</code> :"
   ]
  },
  {
   "cell_type": "code",
   "execution_count": 5,
   "metadata": {},
   "outputs": [],
   "source": [
    "Valeurs = range(2,13)"
   ]
  },
  {
   "cell_type": "markdown",
   "metadata": {},
   "source": [
    "<span style='color:white;font-weight:bold;background-color:black;width:12px;padding: 2px;font-size:20px'>3.</span> Fréquences des valeurs prises par $X$ dans un échantillon de taille $n$"
   ]
  },
  {
   "cell_type": "markdown",
   "metadata": {},
   "source": [
    "<span style='color:white;font-weight:bold;background-color:#F0573B;padding: 2px;font-size:20px'>a.</span> Compléter la fonction nommée <code>fréquences</code> de paramètre <code>n</code> <i>(un entier naturel non nul)</i>.\n",
    "<br>Elle simule un échantillon de taille <code>n</code> de $X$ et renvoie les fréquences des valeurs prises par $X$."
   ]
  },
  {
   "cell_type": "code",
   "execution_count": 6,
   "metadata": {},
   "outputs": [],
   "source": [
    "def frequences(n):\n",
    "    L = echan(n)\n",
    "    E = [L.count(k) for k in Valeurs]\n",
    "    return [e/n for e in E]"
   ]
  },
  {
   "cell_type": "markdown",
   "metadata": {},
   "source": [
    "<span style='color:white;font-weight:bold;background-color:#F0573B;padding: 2px;font-size:20px'>b.</span> Exécuter l'instruction suivante et interpréter le premier et second élément de <code>F</code>. "
   ]
  },
  {
   "cell_type": "code",
   "execution_count": 7,
   "metadata": {},
   "outputs": [
    {
     "data": {
      "text/plain": [
       "[0.027, 0.059, 0.085, 0.105, 0.127, 0.173, 0.15, 0.114, 0.079, 0.053, 0.028]"
      ]
     },
     "execution_count": 7,
     "metadata": {},
     "output_type": "execute_result"
    }
   ],
   "source": [
    "F = frequences(1000)\n",
    "F"
   ]
  },
  {
   "cell_type": "markdown",
   "metadata": {},
   "source": [
    "<span style='color:white;font-weight:bold;background-color:#F0573B;padding: 2px;font-size:20px'>c.</span> Pour représenter <code>F</code>, exécuter le code suivant.\n",
    "<br> Quelle valeur de $X$ semble se produire le plus fréquemment ?"
   ]
  },
  {
   "cell_type": "code",
   "execution_count": 8,
   "metadata": {},
   "outputs": [
    {
     "data": {
      "image/png": "[encoded data removed]",
      "text/plain": [
       "<Figure size 432x288 with 1 Axes>"
      ]
     },
     "metadata": {
      "needs_background": "light"
     },
     "output_type": "display_data"
    }
   ],
   "source": [
    "import pylab as pl\n",
    "\n",
    "pl.bar(Valeurs,F)\n",
    "pl.show()"
   ]
  },
  {
   "cell_type": "markdown",
   "metadata": {},
   "source": [
    "<span style='color:white;font-weight:bold;background-color:black;width:12px;padding: 2px;font-size:20px'>4.</span> Loi de probabilité de $X$"
   ]
  },
  {
   "cell_type": "markdown",
   "metadata": {},
   "source": [
    "<span style='color:white;font-weight:bold;background-color:#F0573B;padding: 2px;font-size:20px'>a.</span> On propose le tableau suivant : \n",
    "    <table style=\"border-width:2px;border-style:solid;border-color:#F0573B;\" width=\"600\">\n",
    "   <tr style=\"border:2px solid #F0573B;\">\n",
    "       <td style=\"border:2px solid #F0573B;text-align:center;\" width=\"100\">Valeur</td>\n",
    "       <td style=\"border:2px solid #F0573B;text-align:center;\">2</td>\n",
    "       <td style=\"border:2px solid #F0573B;text-align:center;\">3</td>\n",
    "       <td style=\"border:2px solid #F0573B;text-align:center;\">4</td>\n",
    "       <td style=\"border:2px solid #F0573B;text-align:center;\">5</td>\n",
    "       <td style=\"border:2px solid #F0573B;text-align:center;\">6</td>\n",
    "       <td style=\"border:2px solid #F0573B;text-align:center;\">7</td>\n",
    "       <td style=\"border:2px solid #F0573B;text-align:center;\">8</td>\n",
    "       <td style=\"border:2px solid #F0573B;text-align:center;\">9</td>\n",
    "       <td style=\"border:2px solid #F0573B;text-align:center;\">10</td>\n",
    "       <td style=\"border:2px solid #F0573B;text-align:center;\">11</td>\n",
    "       <td style=\"border:2px solid #F0573B;text-align:center;\">12</td>\n",
    "   </tr>\n",
    "    <tr style=\"border:2px solid #F0573B;\">\n",
    "       <td style=\"border:2px solid #F0573B;text-align:center;\" width=\"100\">Probabilité</td>\n",
    "       <td style=\"border:2px solid #F0573B;text-align:center;\">$\\dfrac{1}{36}$</td>\n",
    "       <td style=\"border:2px solid #F0573B;text-align:center;\"></td>\n",
    "       <td style=\"border:2px solid #F0573B;text-align:center;\"></td>\n",
    "       <td style=\"border:2px solid #F0573B;text-align:center;\"></td>\n",
    "       <td style=\"border:2px solid #F0573B;text-align:center;\"></td>\n",
    "       <td style=\"border:2px solid #F0573B;text-align:center;\"></td>\n",
    "       <td style=\"border:2px solid #F0573B;text-align:center;\"></td>\n",
    "       <td style=\"border:2px solid #F0573B;text-align:center;\"></td>\n",
    "       <td style=\"border:2px solid #F0573B;text-align:center;\"></td>\n",
    "       <td style=\"border:2px solid #F0573B;text-align:center;\"></td>\n",
    "       <td style=\"border:2px solid #F0573B;text-align:center;\"></td>\n",
    "   </tr>\n",
    "</table>\n",
    "<ul>\n",
    "    <li>$(X=2)$ est un événement. Citer la seule issue qui le réalise.</li>\n",
    "    <li>Que vaut la probabilité de cet événement, notée $\\mathbb{P}(X=2)$ ?</li>\n",
    "</ul>"
   ]
  },
  {
   "cell_type": "markdown",
   "metadata": {},
   "source": [
    "<span style='color:white;font-weight:bold;background-color:#F0573B;padding: 2px;font-size:20px'>b.</span> Compléter ce tableau."
   ]
  },
  {
   "cell_type": "markdown",
   "metadata": {},
   "source": [
    "<div style='background-color:lightgreen;padding:10px'><b>Définition :</b>\n",
    "    <br>Ce tableau correspond à <b>la loi de probabilité de</b> $X$.\n",
    "</div>"
   ]
  },
  {
   "cell_type": "markdown",
   "metadata": {},
   "source": [
    "<span style='color:white;font-weight:bold;background-color:#F0573B;padding: 2px;font-size:20px'>c.</span> Que représente la liste <code>P</code> ?"
   ]
  },
  {
   "cell_type": "code",
   "execution_count": 9,
   "metadata": {},
   "outputs": [
    {
     "data": {
      "text/plain": [
       "[0.027777777777777776,\n",
       " 0.05555555555555555,\n",
       " 0.08333333333333333,\n",
       " 0.1111111111111111,\n",
       " 0.1388888888888889,\n",
       " 0.16666666666666666,\n",
       " 0.1388888888888889,\n",
       " 0.1111111111111111,\n",
       " 0.08333333333333333,\n",
       " 0.05555555555555555,\n",
       " 0.027777777777777776]"
      ]
     },
     "execution_count": 9,
     "metadata": {},
     "output_type": "execute_result"
    }
   ],
   "source": [
    "P = [k/36 for k in range(1,7)]+[k/36 for k in range(5,0,-1)]\n",
    "P"
   ]
  },
  {
   "cell_type": "markdown",
   "metadata": {},
   "source": [
    "<span style='color:white;font-weight:bold;background-color:black;width:12px;padding: 2px;font-size:20px'>5.</span> Comparaison entre fréquence et probabilité"
   ]
  },
  {
   "cell_type": "markdown",
   "metadata": {},
   "source": [
    "<span style='color:white;font-weight:bold;background-color:#F0573B;padding: 2px;font-size:20px'>a.</span> Exécuter le code suivant permettant d'obtenir les fréquences et probabilités de chaque valeur prise par $X$."
   ]
  },
  {
   "cell_type": "code",
   "execution_count": 10,
   "metadata": {},
   "outputs": [
    {
     "data": {
      "text/html": [
       "<div>\n",
       "<style scoped>\n",
       "    .dataframe tbody tr th:only-of-type {\n",
       "        vertical-align: middle;\n",
       "    }\n",
       "\n",
       "    .dataframe tbody tr th {\n",
       "        vertical-align: top;\n",
       "    }\n",
       "\n",
       "    .dataframe thead th {\n",
       "        text-align: right;\n",
       "    }\n",
       "</style>\n",
       "<table border=\"1\" class=\"dataframe\">\n",
       "  <thead>\n",
       "    <tr style=\"text-align: right;\">\n",
       "      <th></th>\n",
       "      <th>x</th>\n",
       "      <th>f</th>\n",
       "      <th>p</th>\n",
       "    </tr>\n",
       "  </thead>\n",
       "  <tbody>\n",
       "    <tr>\n",
       "      <th>0</th>\n",
       "      <td>2</td>\n",
       "      <td>0.027</td>\n",
       "      <td>0.027778</td>\n",
       "    </tr>\n",
       "    <tr>\n",
       "      <th>1</th>\n",
       "      <td>3</td>\n",
       "      <td>0.059</td>\n",
       "      <td>0.055556</td>\n",
       "    </tr>\n",
       "    <tr>\n",
       "      <th>2</th>\n",
       "      <td>4</td>\n",
       "      <td>0.085</td>\n",
       "      <td>0.083333</td>\n",
       "    </tr>\n",
       "    <tr>\n",
       "      <th>3</th>\n",
       "      <td>5</td>\n",
       "      <td>0.105</td>\n",
       "      <td>0.111111</td>\n",
       "    </tr>\n",
       "    <tr>\n",
       "      <th>4</th>\n",
       "      <td>6</td>\n",
       "      <td>0.127</td>\n",
       "      <td>0.138889</td>\n",
       "    </tr>\n",
       "    <tr>\n",
       "      <th>5</th>\n",
       "      <td>7</td>\n",
       "      <td>0.173</td>\n",
       "      <td>0.166667</td>\n",
       "    </tr>\n",
       "    <tr>\n",
       "      <th>6</th>\n",
       "      <td>8</td>\n",
       "      <td>0.150</td>\n",
       "      <td>0.138889</td>\n",
       "    </tr>\n",
       "    <tr>\n",
       "      <th>7</th>\n",
       "      <td>9</td>\n",
       "      <td>0.114</td>\n",
       "      <td>0.111111</td>\n",
       "    </tr>\n",
       "    <tr>\n",
       "      <th>8</th>\n",
       "      <td>10</td>\n",
       "      <td>0.079</td>\n",
       "      <td>0.083333</td>\n",
       "    </tr>\n",
       "    <tr>\n",
       "      <th>9</th>\n",
       "      <td>11</td>\n",
       "      <td>0.053</td>\n",
       "      <td>0.055556</td>\n",
       "    </tr>\n",
       "    <tr>\n",
       "      <th>10</th>\n",
       "      <td>12</td>\n",
       "      <td>0.028</td>\n",
       "      <td>0.027778</td>\n",
       "    </tr>\n",
       "  </tbody>\n",
       "</table>\n",
       "</div>"
      ],
      "text/plain": [
       "     x      f         p\n",
       "0    2  0.027  0.027778\n",
       "1    3  0.059  0.055556\n",
       "2    4  0.085  0.083333\n",
       "3    5  0.105  0.111111\n",
       "4    6  0.127  0.138889\n",
       "5    7  0.173  0.166667\n",
       "6    8  0.150  0.138889\n",
       "7    9  0.114  0.111111\n",
       "8   10  0.079  0.083333\n",
       "9   11  0.053  0.055556\n",
       "10  12  0.028  0.027778"
      ]
     },
     "execution_count": 10,
     "metadata": {},
     "output_type": "execute_result"
    }
   ],
   "source": [
    "import pandas as pa\n",
    "\n",
    "D = pa.DataFrame()\n",
    "D['x'] = Valeurs\n",
    "D['f'] = F\n",
    "D['p'] = P\n",
    "D"
   ]
  },
  {
   "cell_type": "markdown",
   "metadata": {},
   "source": [
    "<span style='color:white;font-weight:bold;background-color:#F0573B;padding: 2px;font-size:20px'>b.</span> Exécuter le code suivant. \n",
    "<br> Comparer chaque fréquence de réalisation de $(X=k)$ avec $\\mathbb{P}(X=k)$. Expliquer."
   ]
  },
  {
   "cell_type": "code",
   "execution_count": 11,
   "metadata": {},
   "outputs": [
    {
     "data": {
      "text/plain": [
       "<matplotlib.axes._subplots.AxesSubplot at 0x1ccfb74eec8>"
      ]
     },
     "execution_count": 11,
     "metadata": {},
     "output_type": "execute_result"
    },
    {
     "data": {
      "image/png": "[encoded data removed]",
      "text/plain": [
       "<Figure size 432x288 with 1 Axes>"
      ]
     },
     "metadata": {
      "needs_background": "light"
     },
     "output_type": "display_data"
    }
   ],
   "source": [
    "D.plot.bar(x='x',y=['f','p'])"
   ]
  },
  {
   "cell_type": "markdown",
   "metadata": {},
   "source": [
    "<span style='color:white;font-weight:bold;background-color:black;width:12px;padding: 2px;font-size:20px'>6.</span> Espérance de $X$"
   ]
  },
  {
   "cell_type": "code",
   "execution_count": 12,
   "metadata": {},
   "outputs": [
    {
     "data": {
      "text/html": [
       "<div>\n",
       "<style scoped>\n",
       "    .dataframe tbody tr th:only-of-type {\n",
       "        vertical-align: middle;\n",
       "    }\n",
       "\n",
       "    .dataframe tbody tr th {\n",
       "        vertical-align: top;\n",
       "    }\n",
       "\n",
       "    .dataframe thead th {\n",
       "        text-align: right;\n",
       "    }\n",
       "</style>\n",
       "<table border=\"1\" class=\"dataframe\">\n",
       "  <thead>\n",
       "    <tr style=\"text-align: right;\">\n",
       "      <th></th>\n",
       "      <th>x</th>\n",
       "      <th>f</th>\n",
       "      <th>p</th>\n",
       "    </tr>\n",
       "  </thead>\n",
       "  <tbody>\n",
       "    <tr>\n",
       "      <th>0</th>\n",
       "      <td>2</td>\n",
       "      <td>0.027</td>\n",
       "      <td>0.027778</td>\n",
       "    </tr>\n",
       "    <tr>\n",
       "      <th>1</th>\n",
       "      <td>3</td>\n",
       "      <td>0.059</td>\n",
       "      <td>0.055556</td>\n",
       "    </tr>\n",
       "    <tr>\n",
       "      <th>2</th>\n",
       "      <td>4</td>\n",
       "      <td>0.085</td>\n",
       "      <td>0.083333</td>\n",
       "    </tr>\n",
       "    <tr>\n",
       "      <th>3</th>\n",
       "      <td>5</td>\n",
       "      <td>0.105</td>\n",
       "      <td>0.111111</td>\n",
       "    </tr>\n",
       "    <tr>\n",
       "      <th>4</th>\n",
       "      <td>6</td>\n",
       "      <td>0.127</td>\n",
       "      <td>0.138889</td>\n",
       "    </tr>\n",
       "    <tr>\n",
       "      <th>5</th>\n",
       "      <td>7</td>\n",
       "      <td>0.173</td>\n",
       "      <td>0.166667</td>\n",
       "    </tr>\n",
       "    <tr>\n",
       "      <th>6</th>\n",
       "      <td>8</td>\n",
       "      <td>0.150</td>\n",
       "      <td>0.138889</td>\n",
       "    </tr>\n",
       "    <tr>\n",
       "      <th>7</th>\n",
       "      <td>9</td>\n",
       "      <td>0.114</td>\n",
       "      <td>0.111111</td>\n",
       "    </tr>\n",
       "    <tr>\n",
       "      <th>8</th>\n",
       "      <td>10</td>\n",
       "      <td>0.079</td>\n",
       "      <td>0.083333</td>\n",
       "    </tr>\n",
       "    <tr>\n",
       "      <th>9</th>\n",
       "      <td>11</td>\n",
       "      <td>0.053</td>\n",
       "      <td>0.055556</td>\n",
       "    </tr>\n",
       "    <tr>\n",
       "      <th>10</th>\n",
       "      <td>12</td>\n",
       "      <td>0.028</td>\n",
       "      <td>0.027778</td>\n",
       "    </tr>\n",
       "  </tbody>\n",
       "</table>\n",
       "</div>"
      ],
      "text/plain": [
       "     x      f         p\n",
       "0    2  0.027  0.027778\n",
       "1    3  0.059  0.055556\n",
       "2    4  0.085  0.083333\n",
       "3    5  0.105  0.111111\n",
       "4    6  0.127  0.138889\n",
       "5    7  0.173  0.166667\n",
       "6    8  0.150  0.138889\n",
       "7    9  0.114  0.111111\n",
       "8   10  0.079  0.083333\n",
       "9   11  0.053  0.055556\n",
       "10  12  0.028  0.027778"
      ]
     },
     "execution_count": 12,
     "metadata": {},
     "output_type": "execute_result"
    }
   ],
   "source": [
    "D"
   ]
  },
  {
   "cell_type": "markdown",
   "metadata": {},
   "source": [
    "<span style='color:white;font-weight:bold;background-color:#F0573B;padding: 2px;font-size:20px'>a.</span> A partir de la table, poser le calcul permettant d'obtenir la moyenne des valeurs prises par $X$ <i>(dans l'échantillon)</i>, notée $\\overline{x}$."
   ]
  },
  {
   "cell_type": "markdown",
   "metadata": {},
   "source": [
    "<span style='color:white;font-weight:bold;background-color:#F0573B;padding: 2px;font-size:20px'>b.</span> Pour obtenir la valeur de $\\overline{x}$, exécuter la cellule suivante."
   ]
  },
  {
   "cell_type": "code",
   "execution_count": 13,
   "metadata": {},
   "outputs": [
    {
     "data": {
      "text/plain": [
       "7.0040000000000004"
      ]
     },
     "execution_count": 13,
     "metadata": {},
     "output_type": "execute_result"
    }
   ],
   "source": [
    "(D.x * D.f).sum()"
   ]
  },
  {
   "cell_type": "markdown",
   "metadata": {},
   "source": [
    "<span style='color:white;font-weight:bold;background-color:#F0573B;padding: 2px;font-size:20px'>c.</span> On définit <b>l'espérance</b> de $X$, le nombre noté $\\mathbb{E}[X]$, définit par : $$\\mathbb{E}[X]=2\\times\\mathbb{P}(X=2)+3\\times\\mathbb{P}(X=3)+\\cdots+12\\times\\mathbb{P}(X=12)$$\n",
    "Calculer ce nombre."
   ]
  },
  {
   "cell_type": "markdown",
   "metadata": {},
   "source": [
    "<span style='color:white;font-weight:bold;background-color:#F0573B;padding: 2px;font-size:20px'>d.</span> Compléter :\n",
    "<blockquote style=\"border-left: 2px solid black;background-color:#F0573B\">\n",
    "    La moyenne de $n$ réalisations de $X$, avec $n$ <b>suffisamment grand</b> est voisine de .....\n",
    "</blockquote>"
   ]
  },
  {
   "cell_type": "code",
   "execution_count": 14,
   "metadata": {},
   "outputs": [
    {
     "data": {
      "text/plain": [
       "6.999999999999998"
      ]
     },
     "execution_count": 14,
     "metadata": {},
     "output_type": "execute_result"
    }
   ],
   "source": [
    "(D.x * D.p).sum()"
   ]
  },
  {
   "cell_type": "markdown",
   "metadata": {},
   "source": [
    "<span style='color:white;font-weight:bold;background-color:black;width:12px;padding: 2px;font-size:20px'>7.</span> Une <b>façon simple</b> d'estimer ponctuellement par simulation $\\mathbb{E}[X]$"
   ]
  },
  {
   "cell_type": "markdown",
   "metadata": {},
   "source": [
    "<span style='color:white;font-weight:bold;background-color:#F0573B;padding: 2px;font-size:20px'>a.</span> Voici la fonction <code>moy</code> de paramètre <code>L</code> <i>(une liste de nombres)</i>.\n",
    "<br> Compléter cette fonction pour qu'elle renvoie la moyenne des valeurs de <code>L</code>."
   ]
  },
  {
   "cell_type": "code",
   "execution_count": 15,
   "metadata": {},
   "outputs": [],
   "source": [
    "def moy(L):\n",
    "    s = 0\n",
    "    for x in L:\n",
    "        s = s + x\n",
    "    return s/len(L)"
   ]
  },
  {
   "cell_type": "markdown",
   "metadata": {},
   "source": [
    "<span style='color:white;font-weight:bold;background-color:#F0573B;padding: 2px;font-size:20px'>b.</span> Ecrire la fonction nommée espérance de paramètre <code>n</code> qui renvoie la moyenne $n$ valeurs de $X$."
   ]
  },
  {
   "cell_type": "code",
   "execution_count": 16,
   "metadata": {},
   "outputs": [],
   "source": [
    "def esperance(n):\n",
    "    return moy(echan(n)) "
   ]
  },
  {
   "cell_type": "markdown",
   "metadata": {},
   "source": [
    "<span style='color:white;font-weight:bold;background-color:#F0573B;padding: 2px;font-size:20px'>c.</span> On simule ci-dessous :\n",
    "<ul>\n",
    "    <li> $1000$ échantillons de taille $n$ de $X$.</li>\n",
    "    <li> Pour chacun d'eux, on calcule la moyenne $\\overline{x}$.</li>\n",
    "    <li> On représente l'histogramme des fréquences des valeurs moyennes pour observer leur répatition.</li>\n",
    "</ul> "
   ]
  },
  {
   "cell_type": "code",
   "execution_count": 17,
   "metadata": {},
   "outputs": [
    {
     "data": {
      "application/vnd.jupyter.widget-view+json": {
       "model_id": "4927ce9b8e4d4001953ffc72a422664d",
       "version_major": 2,
       "version_minor": 0
      },
      "text/plain": [
       "interactive(children=(IntSlider(value=100, description='n', max=2000, min=100, step=200), Checkbox(value=False…"
      ]
     },
     "metadata": {},
     "output_type": "display_data"
    }
   ],
   "source": [
    "from ipywidgets import interact\n",
    "\n",
    "@interact(n=(100,2000,200))\n",
    "def repartition_moyennes(n=100,axe=False):\n",
    "    pl.axis([6,8,0,180])\n",
    "    E = [esperance(n) for k in range(1000)]\n",
    "    pl.hist(E,bins=20)\n",
    "    if axe:\n",
    "        pl.axvline(x=7,color='red')\n",
    "    pl.show()"
   ]
  },
  {
   "cell_type": "markdown",
   "metadata": {},
   "source": [
    "En observant l'histogramme obtenu, commenter la répartition de ces moyennes."
   ]
  },
  {
   "cell_type": "code",
   "execution_count": null,
   "metadata": {},
   "outputs": [],
   "source": []
  }
 ],
 "metadata": {
  "kernelspec": {
   "display_name": "Python 3",
   "language": "python",
   "name": "python3"
  },
  "language_info": {
   "codemirror_mode": {
    "name": "ipython",
    "version": 3
   },
   "file_extension": ".py",
   "mimetype": "text/x-python",
   "name": "python",
   "nbconvert_exporter": "python",
   "pygments_lexer": "ipython3",
   "version": "3.7.6"
  }
 },
 "nbformat": 4,
 "nbformat_minor": 4
}
